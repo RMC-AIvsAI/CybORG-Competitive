{
 "cells": [
  {
   "cell_type": "markdown",
   "metadata": {},
   "source": [
    "### The True State"
   ]
  },
  {
   "cell_type": "markdown",
   "metadata": {},
   "source": [
    "In order to help users understand what is going on, it is necessary to be able to pull out the true state of the network at any time. This is obtained by calling the get_agent_state method and passing in 'True'. Since this observation is huge, we will focus on 'User0'."
   ]
  },
  {
   "cell_type": "code",
   "execution_count": 1,
   "metadata": {},
   "outputs": [
    {
     "name": "stdout",
     "output_type": "stream",
     "text": [
      "{'Interface': [{'IP Address': IPv4Address('127.0.0.1'),\n",
      "                'Interface Name': 'lo',\n",
      "                'Subnet': IPv4Network('127.0.0.0/8')},\n",
      "               {'IP Address': IPv4Address('10.0.190.105'),\n",
      "                'Interface Name': 'eth0',\n",
      "                'Subnet': IPv4Network('10.0.190.96/28')}],\n",
      " 'Processes': [{'Connections': [{'Transport Protocol': <TransportProtocol.UNKNOWN: 1>,\n",
      "                                 'local_address': IPv4Address('0.0.0.0'),\n",
      "                                 'local_port': 22}],\n",
      "                'Known Path': <Path.UNKNOWN: 1>,\n",
      "                'Known Process': <ProcessName.SSHD: 7>,\n",
      "                'PID': 3368,\n",
      "                'PPID': 5956,\n",
      "                'Path': 'C:\\\\Program Files\\\\OpenSSH\\\\usr\\\\sbin',\n",
      "                'Process Name': 'sshd.exe',\n",
      "                'Process Type': <ProcessType.SSH: 2>,\n",
      "                'Username': 'sshd_server'},\n",
      "               {'Connections': [{'Transport Protocol': <TransportProtocol.UNKNOWN: 1>,\n",
      "                                 'local_address': IPv4Address('0.0.0.0'),\n",
      "                                 'local_port': 21}],\n",
      "                'Known Path': <Path.UNKNOWN: 1>,\n",
      "                'Known Process': <ProcessName.FEMITTER: 12>,\n",
      "                'PID': 3344,\n",
      "                'PPID': 5566,\n",
      "                'Path': 'C:\\\\Program Files\\\\Femitter',\n",
      "                'Process Name': 'femitter.exe',\n",
      "                'Process Type': <ProcessType.FEMITTER: 6>,\n",
      "                'Username': 'SYSTEM'},\n",
      "               {'Known Process': <ProcessName.VELOCLIENT: 26>,\n",
      "                'PID': 20719,\n",
      "                'Process Name': 'VelociraptorClient',\n",
      "                'Process Type': <ProcessType.UNKNOWN: 1>,\n",
      "                'Username': 'ubuntu'},\n",
      "               {'Known Process': <ProcessName.UNKNOWN: 1>,\n",
      "                'PID': 8250,\n",
      "                'Process Name': 'green_session',\n",
      "                'Process Type': <ProcessType.UNKNOWN: 1>,\n",
      "                'Username': 'GreenAgent'},\n",
      "               {'Known Process': <ProcessName.UNKNOWN: 1>,\n",
      "                'PID': 23844,\n",
      "                'Process Name': 'RedAbstractSession',\n",
      "                'Process Type': <ProcessType.UNKNOWN: 1>,\n",
      "                'Username': 'SYSTEM'}],\n",
      " 'Sessions': [{'Agent': 'Blue',\n",
      "               'ID': 1,\n",
      "               'PID': 20719,\n",
      "               'Timeout': 0,\n",
      "               'Type': <SessionType.VELOCIRAPTOR_CLIENT: 7>,\n",
      "               'Username': 'ubuntu'},\n",
      "              {'Agent': 'Green',\n",
      "               'ID': 0,\n",
      "               'PID': 8250,\n",
      "               'Timeout': 0,\n",
      "               'Type': <SessionType.GREY_SESSION: 12>,\n",
      "               'Username': 'GreenAgent'},\n",
      "              {'Agent': 'Red',\n",
      "               'ID': 0,\n",
      "               'PID': 23844,\n",
      "               'Timeout': 0,\n",
      "               'Type': <SessionType.RED_ABSTRACT_SESSION: 10>,\n",
      "               'Username': 'SYSTEM'}],\n",
      " 'System info': {'Architecture': <Architecture.x64: 2>,\n",
      "                 'Hostname': 'User0',\n",
      "                 'OSDistribution': <OperatingSystemDistribution.WINDOWS_SVR_2008: 4>,\n",
      "                 'OSType': <OperatingSystemType.WINDOWS: 2>,\n",
      "                 'OSVersion': <OperatingSystemVersion.W6_1_7601: 13>},\n",
      " 'User Info': [{'Groups': [{'GID': 0}], 'Username': 'Administrator'},\n",
      "               {'Username': 'GreenAgent'},\n",
      "               {'Groups': [{'GID': 0}],\n",
      "                'Password': 'vagrant',\n",
      "                'Username': 'vagrant'},\n",
      "               {'Username': 'SYSTEM'}]}\n",
      "----------------------------------------------------------------------------\n"
     ]
    }
   ],
   "source": [
    "import inspect\n",
    "from pprint import pprint\n",
    "from CybORG import CybORG\n",
    "from CybORG.Agents import B_lineAgent\n",
    "\n",
    "path = str(inspect.getfile(CybORG))\n",
    "path = path[:-10] + '/Shared/Scenarios/Scenario2.yaml'\n",
    "\n",
    "env = CybORG(path, 'sim',agents={'Red':B_lineAgent})\n",
    "\n",
    "results = env.reset(agent='Blue')\n",
    "\n",
    "true_state = env.get_agent_state('True')\n",
    "pprint(true_state['User0'])\n",
    "print(76*'-')"
   ]
  },
  {
   "cell_type": "markdown",
   "metadata": {},
   "source": [
    "In order to better visualise this, we will import the true_obs_to_table function, which converts this observation into a human-readable table."
   ]
  },
  {
   "cell_type": "code",
   "execution_count": 2,
   "metadata": {},
   "outputs": [
    {
     "name": "stdout",
     "output_type": "stream",
     "text": [
      "Scanned column likely inaccurate.\n",
      "+----------------+--------------+-------------+-------+---------+------------+\n",
      "|     Subnet     |  IP Address  |   Hostname  | Known | Scanned |   Access   |\n",
      "+----------------+--------------+-------------+-------+---------+------------+\n",
      "| 10.0.214.0/28  |  10.0.214.9  |   Defender  | False |  False  |    None    |\n",
      "| 10.0.214.0/28  | 10.0.214.12  | Enterprise0 | False |  False  |    None    |\n",
      "| 10.0.214.0/28  |  10.0.214.5  | Enterprise1 | False |  False  |    None    |\n",
      "| 10.0.214.0/28  |  10.0.214.6  | Enterprise2 | False |  False  |    None    |\n",
      "| 10.0.94.176/28 | 10.0.94.184  |   Op_Host0  | False |  False  |    None    |\n",
      "| 10.0.94.176/28 | 10.0.94.189  |   Op_Host1  | False |  False  |    None    |\n",
      "| 10.0.94.176/28 | 10.0.94.185  |   Op_Host2  | False |  False  |    None    |\n",
      "| 10.0.94.176/28 | 10.0.94.187  |  Op_Server0 | False |  False  |    None    |\n",
      "| 10.0.190.96/28 | 10.0.190.105 |    User0    |  True |  False  | Privileged |\n",
      "| 10.0.190.96/28 | 10.0.190.97  |    User1    | False |  False  |    None    |\n",
      "| 10.0.190.96/28 | 10.0.190.104 |    User2    | False |  False  |    None    |\n",
      "| 10.0.190.96/28 | 10.0.190.108 |    User3    | False |  False  |    None    |\n",
      "| 10.0.190.96/28 | 10.0.190.99  |    User4    | False |  False  |    None    |\n",
      "+----------------+--------------+-------------+-------+---------+------------+\n"
     ]
    }
   ],
   "source": [
    "from CybORG.Agents.Wrappers.TrueTableWrapper import true_obs_to_table\n",
    "\n",
    "true_table = true_obs_to_table(true_state,env)\n",
    "print(true_table)"
   ]
  },
  {
   "cell_type": "markdown",
   "metadata": {},
   "source": [
    "As red moves throughout the network, we can thus see its progress. Note how the 'User1' exploit gets root immediately."
   ]
  },
  {
   "cell_type": "code",
   "execution_count": 3,
   "metadata": {},
   "outputs": [
    {
     "name": "stdout",
     "output_type": "stream",
     "text": [
      "Scanned column likely inaccurate.\n",
      "DiscoverRemoteSystems 10.0.190.96/28\n",
      "+----------------+--------------+-------------+-------+---------+------------+\n",
      "|     Subnet     |  IP Address  |   Hostname  | Known | Scanned |   Access   |\n",
      "+----------------+--------------+-------------+-------+---------+------------+\n",
      "| 10.0.214.0/28  |  10.0.214.9  |   Defender  | False |  False  |    None    |\n",
      "| 10.0.214.0/28  | 10.0.214.12  | Enterprise0 | False |  False  |    None    |\n",
      "| 10.0.214.0/28  |  10.0.214.5  | Enterprise1 | False |  False  |    None    |\n",
      "| 10.0.214.0/28  |  10.0.214.6  | Enterprise2 | False |  False  |    None    |\n",
      "| 10.0.94.176/28 | 10.0.94.184  |   Op_Host0  | False |  False  |    None    |\n",
      "| 10.0.94.176/28 | 10.0.94.189  |   Op_Host1  | False |  False  |    None    |\n",
      "| 10.0.94.176/28 | 10.0.94.185  |   Op_Host2  | False |  False  |    None    |\n",
      "| 10.0.94.176/28 | 10.0.94.187  |  Op_Server0 | False |  False  |    None    |\n",
      "| 10.0.190.96/28 | 10.0.190.105 |    User0    |  True |  False  | Privileged |\n",
      "| 10.0.190.96/28 | 10.0.190.97  |    User1    |  True |  False  |    None    |\n",
      "| 10.0.190.96/28 | 10.0.190.104 |    User2    |  True |  False  |    None    |\n",
      "| 10.0.190.96/28 | 10.0.190.108 |    User3    |  True |  False  |    None    |\n",
      "| 10.0.190.96/28 | 10.0.190.99  |    User4    |  True |  False  |    None    |\n",
      "+----------------+--------------+-------------+-------+---------+------------+\n",
      "----------------------------------------------------------------------------\n",
      "Scanned column likely inaccurate.\n",
      "DiscoverNetworkServices 10.0.190.97\n",
      "+----------------+--------------+-------------+-------+---------+------------+\n",
      "|     Subnet     |  IP Address  |   Hostname  | Known | Scanned |   Access   |\n",
      "+----------------+--------------+-------------+-------+---------+------------+\n",
      "| 10.0.214.0/28  |  10.0.214.9  |   Defender  | False |  False  |    None    |\n",
      "| 10.0.214.0/28  | 10.0.214.12  | Enterprise0 | False |  False  |    None    |\n",
      "| 10.0.214.0/28  |  10.0.214.5  | Enterprise1 | False |  False  |    None    |\n",
      "| 10.0.214.0/28  |  10.0.214.6  | Enterprise2 | False |  False  |    None    |\n",
      "| 10.0.94.176/28 | 10.0.94.184  |   Op_Host0  | False |  False  |    None    |\n",
      "| 10.0.94.176/28 | 10.0.94.189  |   Op_Host1  | False |  False  |    None    |\n",
      "| 10.0.94.176/28 | 10.0.94.185  |   Op_Host2  | False |  False  |    None    |\n",
      "| 10.0.94.176/28 | 10.0.94.187  |  Op_Server0 | False |  False  |    None    |\n",
      "| 10.0.190.96/28 | 10.0.190.105 |    User0    |  True |  False  | Privileged |\n",
      "| 10.0.190.96/28 | 10.0.190.97  |    User1    |  True |   True  |    None    |\n",
      "| 10.0.190.96/28 | 10.0.190.104 |    User2    |  True |  False  |    None    |\n",
      "| 10.0.190.96/28 | 10.0.190.108 |    User3    |  True |  False  |    None    |\n",
      "| 10.0.190.96/28 | 10.0.190.99  |    User4    |  True |  False  |    None    |\n",
      "+----------------+--------------+-------------+-------+---------+------------+\n",
      "----------------------------------------------------------------------------\n",
      "Scanned column likely inaccurate.\n",
      "ExploitRemoteService 10.0.190.97\n",
      "+----------------+--------------+-------------+-------+---------+------------+\n",
      "|     Subnet     |  IP Address  |   Hostname  | Known | Scanned |   Access   |\n",
      "+----------------+--------------+-------------+-------+---------+------------+\n",
      "| 10.0.214.0/28  |  10.0.214.9  |   Defender  | False |  False  |    None    |\n",
      "| 10.0.214.0/28  | 10.0.214.12  | Enterprise0 | False |  False  |    None    |\n",
      "| 10.0.214.0/28  |  10.0.214.5  | Enterprise1 | False |  False  |    None    |\n",
      "| 10.0.214.0/28  |  10.0.214.6  | Enterprise2 | False |  False  |    None    |\n",
      "| 10.0.94.176/28 | 10.0.94.184  |   Op_Host0  | False |  False  |    None    |\n",
      "| 10.0.94.176/28 | 10.0.94.189  |   Op_Host1  | False |  False  |    None    |\n",
      "| 10.0.94.176/28 | 10.0.94.185  |   Op_Host2  | False |  False  |    None    |\n",
      "| 10.0.94.176/28 | 10.0.94.187  |  Op_Server0 | False |  False  |    None    |\n",
      "| 10.0.190.96/28 | 10.0.190.105 |    User0    |  True |  False  | Privileged |\n",
      "| 10.0.190.96/28 | 10.0.190.97  |    User1    |  True |  False  | Privileged |\n",
      "| 10.0.190.96/28 | 10.0.190.104 |    User2    |  True |  False  |    None    |\n",
      "| 10.0.190.96/28 | 10.0.190.108 |    User3    |  True |  False  |    None    |\n",
      "| 10.0.190.96/28 | 10.0.190.99  |    User4    |  True |  False  |    None    |\n",
      "+----------------+--------------+-------------+-------+---------+------------+\n",
      "----------------------------------------------------------------------------\n"
     ]
    }
   ],
   "source": [
    "for i in range(3):\n",
    "    env.step()\n",
    "    true_state = env.get_agent_state('True')\n",
    "    true_table = true_obs_to_table(true_state,env)\n",
    "    print(env.get_last_action('Red'))\n",
    "    print(true_table)\n",
    "    print(76*'-')"
   ]
  },
  {
   "cell_type": "markdown",
   "metadata": {},
   "source": [
    "Blue team then restores 'User1' and we can see Red's access is gone."
   ]
  },
  {
   "cell_type": "code",
   "execution_count": 4,
   "metadata": {},
   "outputs": [
    {
     "name": "stdout",
     "output_type": "stream",
     "text": [
      "Scanned column likely inaccurate.\n",
      "+----------------+--------------+-------------+-------+---------+------------+\n",
      "|     Subnet     |  IP Address  |   Hostname  | Known | Scanned |   Access   |\n",
      "+----------------+--------------+-------------+-------+---------+------------+\n",
      "| 10.0.214.0/28  |  10.0.214.9  |   Defender  | False |  False  |    None    |\n",
      "| 10.0.214.0/28  | 10.0.214.12  | Enterprise0 | False |  False  |    None    |\n",
      "| 10.0.214.0/28  |  10.0.214.5  | Enterprise1 | False |  False  |    None    |\n",
      "| 10.0.214.0/28  |  10.0.214.6  | Enterprise2 | False |  False  |    None    |\n",
      "| 10.0.94.176/28 | 10.0.94.184  |   Op_Host0  | False |  False  |    None    |\n",
      "| 10.0.94.176/28 | 10.0.94.189  |   Op_Host1  | False |  False  |    None    |\n",
      "| 10.0.94.176/28 | 10.0.94.185  |   Op_Host2  | False |  False  |    None    |\n",
      "| 10.0.94.176/28 | 10.0.94.187  |  Op_Server0 | False |  False  |    None    |\n",
      "| 10.0.190.96/28 | 10.0.190.105 |    User0    |  True |  False  | Privileged |\n",
      "| 10.0.190.96/28 | 10.0.190.97  |    User1    |  True |  False  |    None    |\n",
      "| 10.0.190.96/28 | 10.0.190.104 |    User2    |  True |  False  |    None    |\n",
      "| 10.0.190.96/28 | 10.0.190.108 |    User3    |  True |  False  |    None    |\n",
      "| 10.0.190.96/28 | 10.0.190.99  |    User4    |  True |  False  |    None    |\n",
      "+----------------+--------------+-------------+-------+---------+------------+\n"
     ]
    }
   ],
   "source": [
    "from CybORG.Shared.Actions import Restore\n",
    "action = Restore(hostname='User1',session=0,agent='Blue')\n",
    "env.step(action=action,agent='Blue')\n",
    "\n",
    "true_state = env.get_agent_state('True')\n",
    "true_table = true_obs_to_table(true_state,env)\n",
    "print(true_table)"
   ]
  },
  {
   "cell_type": "markdown",
   "metadata": {},
   "source": [
    "## Other Debugging Tools"
   ]
  },
  {
   "cell_type": "markdown",
   "metadata": {},
   "source": [
    "CybORG has a host of other tools to help understand the agent state. We have already see the get_observation method."
   ]
  },
  {
   "cell_type": "code",
   "execution_count": 5,
   "metadata": {},
   "outputs": [
    {
     "name": "stdout",
     "output_type": "stream",
     "text": [
      "{'10.0.230.33': {'Interface': [{'IP Address': IPv4Address('10.0.230.33'),\n",
      "                                'Subnet': IPv4Network('10.0.230.32/28')}]},\n",
      " '10.0.230.35': {'Interface': [{'IP Address': IPv4Address('10.0.230.35'),\n",
      "                                'Subnet': IPv4Network('10.0.230.32/28')}]},\n",
      " '10.0.230.39': {'Interface': [{'IP Address': IPv4Address('10.0.230.39'),\n",
      "                                'Subnet': IPv4Network('10.0.230.32/28')}]},\n",
      " '10.0.230.42': {'Interface': [{'IP Address': IPv4Address('10.0.230.42'),\n",
      "                                'Subnet': IPv4Network('10.0.230.32/28')}]},\n",
      " '10.0.230.44': {'Interface': [{'IP Address': IPv4Address('10.0.230.44'),\n",
      "                                'Subnet': IPv4Network('10.0.230.32/28')}]},\n",
      " 'success': <TrinaryEnum.TRUE: 1>}\n",
      "{'success': <TrinaryEnum.UNKNOWN: 2>}\n",
      "----------------------------------------------------------------------------\n"
     ]
    }
   ],
   "source": [
    "env.reset()\n",
    "env.step()\n",
    "\n",
    "red_obs = env.get_observation('Red')\n",
    "pprint(red_obs)\n",
    "\n",
    "blue_obs = env.get_observation('Blue')\n",
    "pprint(blue_obs)\n",
    "print(76*'-')"
   ]
  },
  {
   "cell_type": "markdown",
   "metadata": {},
   "source": [
    "We have also seen the get_last_action method. Note that since we haven't specified an action or agent for blue it defaults to Sleep."
   ]
  },
  {
   "cell_type": "code",
   "execution_count": 6,
   "metadata": {},
   "outputs": [
    {
     "name": "stdout",
     "output_type": "stream",
     "text": [
      "DiscoverRemoteSystems 10.0.230.32/28\n",
      "Sleep\n"
     ]
    }
   ],
   "source": [
    "red_action = env.get_last_action('Red')\n",
    "print(red_action)\n",
    "\n",
    "blue_action = env.get_last_action('Blue')\n",
    "print(blue_action)"
   ]
  },
  {
   "cell_type": "markdown",
   "metadata": {},
   "source": [
    "The get_action_space method allows us to get the action space of any agent."
   ]
  },
  {
   "cell_type": "code",
   "execution_count": 7,
   "metadata": {},
   "outputs": [
    {
     "name": "stdout",
     "output_type": "stream",
     "text": [
      "['action', 'subnet', 'ip_address', 'session', 'username', 'password', 'process', 'port', 'target_session', 'agent', 'hostname']\n",
      "['action', 'subnet', 'ip_address', 'session', 'username', 'password', 'process', 'port', 'target_session', 'agent', 'hostname']\n"
     ]
    }
   ],
   "source": [
    "red_action_space = env.get_action_space('Red')\n",
    "print(list(red_action_space))\n",
    "\n",
    "blue_action_space = env.get_action_space('Blue')\n",
    "print(list(blue_action_space.keys()))"
   ]
  },
  {
   "cell_type": "markdown",
   "metadata": {},
   "source": [
    "The get_ip_map method allows us to see which hostnames are associated with each ip. This is something that is known to Blue, but not to Red at the beginning of the game so be careful to not abuse it."
   ]
  },
  {
   "cell_type": "code",
   "execution_count": 8,
   "metadata": {},
   "outputs": [
    {
     "data": {
      "text/plain": [
       "{'Enterprise0': IPv4Address('10.0.143.61'),\n",
       " 'Enterprise1': IPv4Address('10.0.143.59'),\n",
       " 'Enterprise2': IPv4Address('10.0.143.58'),\n",
       " 'Defender': IPv4Address('10.0.143.50'),\n",
       " 'Op_Server0': IPv4Address('10.0.217.133'),\n",
       " 'Op_Host0': IPv4Address('10.0.217.136'),\n",
       " 'Op_Host1': IPv4Address('10.0.217.138'),\n",
       " 'Op_Host2': IPv4Address('10.0.217.135'),\n",
       " 'User0': IPv4Address('10.0.230.35'),\n",
       " 'User1': IPv4Address('10.0.230.42'),\n",
       " 'User2': IPv4Address('10.0.230.44'),\n",
       " 'User3': IPv4Address('10.0.230.33'),\n",
       " 'User4': IPv4Address('10.0.230.39')}"
      ]
     },
     "execution_count": 8,
     "metadata": {},
     "output_type": "execute_result"
    }
   ],
   "source": [
    "env.get_ip_map()"
   ]
  },
  {
   "cell_type": "markdown",
   "metadata": {},
   "source": [
    "The get_rewards method allows us to see the rewards for all agents."
   ]
  },
  {
   "cell_type": "code",
   "execution_count": 9,
   "metadata": {},
   "outputs": [
    {
     "data": {
      "text/plain": [
       "{'Blue': 0.0, 'Green': 0.0, 'Red': 0.0}"
      ]
     },
     "execution_count": 9,
     "metadata": {},
     "output_type": "execute_result"
    }
   ],
   "source": [
    "env.get_rewards()"
   ]
  },
  {
   "cell_type": "markdown",
   "metadata": {},
   "source": [
    "Finally, the set_seed method allows us to set a random seed."
   ]
  },
  {
   "cell_type": "code",
   "execution_count": 10,
   "metadata": {},
   "outputs": [],
   "source": [
    "env.set_seed(100)"
   ]
  },
  {
   "cell_type": "code",
   "execution_count": null,
   "metadata": {},
   "outputs": [],
   "source": []
  }
 ],
 "metadata": {
  "kernelspec": {
   "display_name": "Python 3",
   "language": "python",
   "name": "python3"
  },
  "language_info": {
   "codemirror_mode": {
    "name": "ipython",
    "version": 3
   },
   "file_extension": ".py",
   "mimetype": "text/x-python",
   "name": "python",
   "nbconvert_exporter": "python",
   "pygments_lexer": "ipython3",
   "version": "3.9.7"
  }
 },
 "nbformat": 4,
 "nbformat_minor": 4
}
