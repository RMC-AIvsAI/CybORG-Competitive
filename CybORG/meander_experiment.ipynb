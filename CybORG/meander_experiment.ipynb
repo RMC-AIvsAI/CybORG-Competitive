{
 "cells": [
  {
   "attachments": {},
   "cell_type": "markdown",
   "metadata": {},
   "source": [
    "#### Imports"
   ]
  },
  {
   "cell_type": "code",
   "execution_count": 2,
   "metadata": {
    "ExecuteTime": {
     "end_time": "2024-01-13T04:28:55.457454Z",
     "start_time": "2024-01-13T04:28:49.211913100Z"
    }
   },
   "outputs": [],
   "source": [
    "from environments import build_blue_agent, sample, get_meander_action\n",
    "\n",
    "import ray\n",
    "import os\n",
    "import pandas as pd\n",
    "import seaborn as sns\n",
    "import matplotlib.pyplot as plt\n",
    "\n",
    "import warnings\n",
    "warnings.filterwarnings(\"ignore\", category=DeprecationWarning)\n",
    "warnings.simplefilter(action='ignore', category=FutureWarning)\n",
    "import logging\n",
    "logging.disable(logging.WARNING)\n",
    "os.environ['TF_CPP_MIN_LOG_LEVEL'] = '3'\n",
    "\n",
    "import tensorflow as tf\n",
    "logger = logging.getLogger(__name__)\n"
   ]
  },
  {
   "cell_type": "code",
   "execution_count": 3,
   "outputs": [
    {
     "data": {
      "text/plain": "'2.0.1'"
     },
     "execution_count": 3,
     "metadata": {},
     "output_type": "execute_result"
    }
   ],
   "source": [
    "ray.__version__"
   ],
   "metadata": {
    "collapsed": false,
    "ExecuteTime": {
     "end_time": "2024-01-13T04:28:55.471646400Z",
     "start_time": "2024-01-13T04:28:55.460654100Z"
    }
   }
  },
  {
   "cell_type": "code",
   "execution_count": 4,
   "metadata": {
    "ExecuteTime": {
     "end_time": "2024-01-13T04:28:55.879435100Z",
     "start_time": "2024-01-13T04:28:55.869396600Z"
    }
   },
   "outputs": [
    {
     "data": {
      "text/plain": "[PhysicalDevice(name='/physical_device:GPU:0', device_type='GPU')]"
     },
     "execution_count": 4,
     "metadata": {},
     "output_type": "execute_result"
    }
   ],
   "source": [
    "tf.config.list_physical_devices('GPU')"
   ]
  },
  {
   "cell_type": "code",
   "execution_count": 5,
   "outputs": [
    {
     "name": "stdout",
     "output_type": "stream",
     "text": [
      "./policies/blue_competitive_pool/competitive_blue_0\\checkpoint_000000\n",
      "./policies/blue_dedicated_pool/dedicated_blue_0\\checkpoint_000000\n"
     ]
    }
   ],
   "source": [
    "# Start Ray\n",
    "ray.init(num_gpus=1, ignore_reinit_error=True, log_to_driver=False)\n",
    "\n",
    "comp_blue = build_blue_agent(workers=1)\n",
    "path_file = open(f\"../policies/competitive_blue_policy\", \"r\")\n",
    "blue_restore_path = path_file.read()\n",
    "path_file.close()\n",
    "comp_blue.restore(blue_restore_path)\n",
    "\n",
    "ded_blue = build_blue_agent(dedicated=True, workers=1)\n",
    "path_file = open(f\"../policies/dedicated_blue_policy\", \"r\")\n",
    "blue_restore_path = path_file.read()\n",
    "path_file.close()\n",
    "ded_blue.restore(blue_restore_path)\n",
    "\n",
    "sample_size = 1000"
   ],
   "metadata": {
    "collapsed": false,
    "ExecuteTime": {
     "end_time": "2024-01-13T04:29:27.030375600Z",
     "start_time": "2024-01-13T04:28:57.993784600Z"
    }
   }
  },
  {
   "attachments": {},
   "cell_type": "markdown",
   "metadata": {},
   "source": [
    "#### Score Matrix"
   ]
  },
  {
   "cell_type": "code",
   "execution_count": 12,
   "metadata": {
    "ExecuteTime": {
     "end_time": "2024-01-13T04:27:18.429209400Z",
     "start_time": "2024-01-13T04:24:05.668652100Z"
    }
   },
   "outputs": [
    {
     "name": "stdout",
     "output_type": "stream",
     "text": [
      "Competitive Blue vs Meander Red: 1.56\n",
      "Dedicated Blue vs Meander Red: 0.01\n",
      "Random Blue vs Meander Red: 5.17\n"
     ]
    }
   ],
   "source": [
    "print(f\"Competitive Blue vs Meander Red: {sample(None, comp_blue, games=sample_size, meander_red=True):0.2f}\")\n",
    "print(f\"Dedicated Blue vs Meander Red: {sample(None, ded_blue, games=sample_size, meander_red=True):0.2f}\")\n",
    "print(f\"Random Blue vs Meander Red: {sample(None, comp_blue, games=sample_size, random_blue=True, meander_red=True):0.2f}\")"
   ]
  },
  {
   "cell_type": "code",
   "execution_count": 18,
   "outputs": [
    {
     "name": "stdout",
     "output_type": "stream",
     "text": [
      "---- Turn 1 ----\n",
      "Blue selects ('Remove', 'User3') with probability 8.47%\n",
      "\n",
      "Red selects ('DiscoverSystems', 'User') with probability 100.00%\n",
      "\n",
      "New Red observation: [0 0 0 0 0 1 0 0 1 0 0 1 0 0 1 0 0 1 0 0 1 0 0 0 0 0 0 0 0 0 1 0 0 0 0 0 0\n",
      " 0 0 0 0 0]\n",
      "+-----------------+--------------+-----------------+---------+------------+\n",
      "|      Subnet     |  IP Address  |     Hostname    | Scanned |   Access   |\n",
      "+-----------------+--------------+-----------------+---------+------------+\n",
      "| 10.0.216.112/28 | 10.0.216.116 | UNKNOWN_HOST: 2 |  False  |    None    |\n",
      "| 10.0.216.112/28 | 10.0.216.118 | UNKNOWN_HOST: 0 |  False  |    None    |\n",
      "| 10.0.216.112/28 | 10.0.216.123 |      User0      |  False  | Privileged |\n",
      "| 10.0.216.112/28 | 10.0.216.125 | UNKNOWN_HOST: 1 |  False  |    None    |\n",
      "+-----------------+--------------+-----------------+---------+------------+\n",
      "\n",
      "Reward: +-0.0\n",
      "Score: 0.0\n",
      "\n",
      "---- Turn 2 ----\n",
      "Blue selects ('Analyse', 'Op_Server0') with probability 9.25%\n",
      "\n",
      "Red selects ('DiscoverServices', 'User2') with probability 100.00%\n",
      "\n",
      "New Red observation: [0 0 0 1 0 1 0 0 1 0 0 1 0 0 1 0 0 1 0 0 1 0 1 0 0 0 0 0 0 0 0 1 0 0 0 0 0\n",
      " 0 0 0 0 0]\n",
      "+-----------------+--------------+-----------------+---------+------------+\n",
      "|      Subnet     |  IP Address  |     Hostname    | Scanned |   Access   |\n",
      "+-----------------+--------------+-----------------+---------+------------+\n",
      "| 10.0.216.112/28 | 10.0.216.116 | UNKNOWN_HOST: 2 |  False  |    None    |\n",
      "| 10.0.216.112/28 | 10.0.216.118 | UNKNOWN_HOST: 0 |  False  |    None    |\n",
      "| 10.0.216.112/28 | 10.0.216.123 |      User0      |  False  | Privileged |\n",
      "| 10.0.216.112/28 | 10.0.216.125 | UNKNOWN_HOST: 1 |   True  |    None    |\n",
      "+-----------------+--------------+-----------------+---------+------------+\n",
      "\n",
      "Reward: +-0.0\n",
      "Score: 0.0\n",
      "\n",
      "---- Turn 3 ----\n",
      "Blue selects ('Analyse', 'Op_Host0') with probability 6.52%\n",
      "\n",
      "Red selects ('DiscoverServices', 'User1') with probability 100.00%\n",
      "\n",
      "New Red observation: [0 0 1 1 0 1 0 0 1 0 0 1 0 0 1 0 0 1 0 0 1 0 1 0 0 0 0 0 0 0 0 0 1 0 0 0 0\n",
      " 0 0 0 0 0]\n",
      "+-----------------+--------------+-----------------+---------+------------+\n",
      "|      Subnet     |  IP Address  |     Hostname    | Scanned |   Access   |\n",
      "+-----------------+--------------+-----------------+---------+------------+\n",
      "| 10.0.216.112/28 | 10.0.216.116 | UNKNOWN_HOST: 2 |  False  |    None    |\n",
      "| 10.0.216.112/28 | 10.0.216.118 | UNKNOWN_HOST: 0 |   True  |    None    |\n",
      "| 10.0.216.112/28 | 10.0.216.123 |      User0      |  False  | Privileged |\n",
      "| 10.0.216.112/28 | 10.0.216.125 | UNKNOWN_HOST: 1 |   True  |    None    |\n",
      "+-----------------+--------------+-----------------+---------+------------+\n",
      "\n",
      "Reward: +-0.0\n",
      "Score: 0.0\n",
      "\n",
      "---- Turn 4 ----\n",
      "Blue selects ('Analyse', 'Op_Host0') with probability 14.02%\n",
      "\n",
      "Red selects ('DiscoverServices', 'User3') with probability 100.00%\n",
      "\n",
      "New Red observation: [0 0 1 1 1 1 0 0 1 0 0 1 0 0 1 0 0 1 0 0 1 0 1 0 0 0 0 0 0 0 0 0 0 1 0 0 0\n",
      " 0 0 0 0 0]\n",
      "+-----------------+--------------+-----------------+---------+------------+\n",
      "|      Subnet     |  IP Address  |     Hostname    | Scanned |   Access   |\n",
      "+-----------------+--------------+-----------------+---------+------------+\n",
      "| 10.0.216.112/28 | 10.0.216.116 | UNKNOWN_HOST: 2 |   True  |    None    |\n",
      "| 10.0.216.112/28 | 10.0.216.118 | UNKNOWN_HOST: 0 |   True  |    None    |\n",
      "| 10.0.216.112/28 | 10.0.216.123 |      User0      |  False  | Privileged |\n",
      "| 10.0.216.112/28 | 10.0.216.125 | UNKNOWN_HOST: 1 |   True  |    None    |\n",
      "+-----------------+--------------+-----------------+---------+------------+\n",
      "\n",
      "Reward: +-0.0\n",
      "Score: 0.0\n",
      "\n",
      "---- Turn 5 ----\n",
      "Blue selects ('Remove', 'User3') with probability 12.46%\n",
      "\n",
      "Red selects ('ExploitServices', 'User3') with probability 100.00%\n",
      "\n",
      "New Red observation: [0 0 1 1 1 1 0 0 1 0 0 1 0 0 1 0 0 0 0 1 1 0 1 0 0 0 1 0 0 0 0 0 0 0 1 0 0\n",
      " 0 0 0 0 0]\n",
      "+-----------------+--------------+-----------------+---------+------------+\n",
      "|      Subnet     |  IP Address  |     Hostname    | Scanned |   Access   |\n",
      "+-----------------+--------------+-----------------+---------+------------+\n",
      "| 10.0.216.112/28 | 10.0.216.116 |      User3      |   True  | Privileged |\n",
      "| 10.0.216.112/28 | 10.0.216.118 | UNKNOWN_HOST: 0 |   True  |    None    |\n",
      "| 10.0.216.112/28 | 10.0.216.123 |      User0      |  False  | Privileged |\n",
      "| 10.0.216.112/28 | 10.0.216.125 | UNKNOWN_HOST: 1 |   True  |    None    |\n",
      "+-----------------+--------------+-----------------+---------+------------+\n",
      "\n",
      "Reward: +0.1\n",
      "Score: 0.1\n",
      "\n",
      "---- Turn 6 ----\n",
      "Blue selects ('Remove', 'Op_Host0') with probability 14.73%\n",
      "\n",
      "Red selects ('PrivilegeEscalate', 'User3') with probability 100.00%\n",
      "\n",
      "New Red observation: [0 0 1 1 1 1 0 0 1 0 0 1 0 0 1 0 0 0 0 1 1 1 1 0 0 0 1 0 0 0 0 0 0 0 0 1 0\n",
      " 0 0 0 0 0]\n",
      "+-------------------+--------------+-----------------+---------+------------+\n",
      "|       Subnet      |  IP Address  |     Hostname    | Scanned |   Access   |\n",
      "+-------------------+--------------+-----------------+---------+------------+\n",
      "| UNKNOWN_SUBNET: 3 | 10.0.169.242 | UNKNOWN_HOST: 4 |  False  |    None    |\n",
      "| UNKNOWN_SUBNET: 5 | 10.0.169.253 | UNKNOWN_HOST: 6 |  False  |    None    |\n",
      "|  10.0.216.112/28  | 10.0.216.116 |      User3      |   True  | Privileged |\n",
      "|  10.0.216.112/28  | 10.0.216.118 | UNKNOWN_HOST: 0 |   True  |    None    |\n",
      "|  10.0.216.112/28  | 10.0.216.123 |      User0      |  False  | Privileged |\n",
      "|  10.0.216.112/28  | 10.0.216.125 | UNKNOWN_HOST: 1 |   True  |    None    |\n",
      "+-------------------+--------------+-----------------+---------+------------+\n",
      "\n",
      "Reward: +0.1\n",
      "Score: 0.2\n",
      "\n",
      "---- Turn 7 ----\n",
      "Blue selects ('Analyse', 'Op_Host0') with probability 10.29%\n",
      "\n",
      "Red selects ('DiscoverServices', 'Op_Server0') with probability 100.00%\n",
      "\n",
      "New Red observation: [0 1 1 1 1 1 0 0 1 0 0 1 0 0 1 0 0 0 0 1 1 1 1 1 0 0 1 0 0 0 0 0 0 0 0 0 1\n",
      " 0 0 0 0 0]\n",
      "+-------------------+--------------+-----------------+---------+------------+\n",
      "|       Subnet      |  IP Address  |     Hostname    | Scanned |   Access   |\n",
      "+-------------------+--------------+-----------------+---------+------------+\n",
      "| UNKNOWN_SUBNET: 3 | 10.0.169.242 | UNKNOWN_HOST: 4 |  False  |    None    |\n",
      "| UNKNOWN_SUBNET: 5 | 10.0.169.253 | UNKNOWN_HOST: 6 |   True  |    None    |\n",
      "|  10.0.216.112/28  | 10.0.216.116 |      User3      |   True  | Privileged |\n",
      "|  10.0.216.112/28  | 10.0.216.118 | UNKNOWN_HOST: 0 |   True  |    None    |\n",
      "|  10.0.216.112/28  | 10.0.216.123 |      User0      |  False  | Privileged |\n",
      "|  10.0.216.112/28  | 10.0.216.125 | UNKNOWN_HOST: 1 |   True  |    None    |\n",
      "+-------------------+--------------+-----------------+---------+------------+\n",
      "\n",
      "Reward: +0.1\n",
      "Score: 0.3\n",
      "\n",
      "---- Turn 8 ----\n",
      "Blue selects ('Analyse', 'User3') with probability 25.69%\n",
      "\n",
      "Red selects ('DiscoverServices', 'Op_Host0') with probability 100.00%\n",
      "\n",
      "New Red observation: [1 1 1 1 1 1 0 0 1 0 0 1 0 0 1 0 0 0 0 1 1 1 1 1 0 0 1 0 0 0 0 0 0 0 0 0 0\n",
      " 1 0 0 0 0]\n",
      "+-------------------+--------------+-----------------+---------+------------+\n",
      "|       Subnet      |  IP Address  |     Hostname    | Scanned |   Access   |\n",
      "+-------------------+--------------+-----------------+---------+------------+\n",
      "| UNKNOWN_SUBNET: 3 | 10.0.169.242 | UNKNOWN_HOST: 4 |   True  |    None    |\n",
      "| UNKNOWN_SUBNET: 5 | 10.0.169.253 | UNKNOWN_HOST: 6 |   True  |    None    |\n",
      "|  10.0.216.112/28  | 10.0.216.116 |      User3      |   True  | Privileged |\n",
      "|  10.0.216.112/28  | 10.0.216.118 | UNKNOWN_HOST: 0 |   True  |    None    |\n",
      "|  10.0.216.112/28  | 10.0.216.123 |      User0      |  False  | Privileged |\n",
      "|  10.0.216.112/28  | 10.0.216.125 | UNKNOWN_HOST: 1 |   True  |    None    |\n",
      "+-------------------+--------------+-----------------+---------+------------+\n",
      "\n",
      "Reward: +0.1\n",
      "Score: 0.4\n",
      "\n",
      "---- Turn 9 ----\n",
      "Blue selects ('Remove', 'Op_Host0') with probability 5.89%\n",
      "\n",
      "Red selects ('ExploitServices', 'Op_Server0') with probability 100.00%\n",
      "\n",
      "New Red observation: [1 1 1 1 1 1 0 0 0 1 0 1 0 0 1 0 0 0 0 1 1 1 1 1 0 1 1 0 0 0 0 0 0 0 0 0 0\n",
      " 0 1 0 0 0]\n",
      "+-------------------+--------------+-----------------+---------+------------+\n",
      "|       Subnet      |  IP Address  |     Hostname    | Scanned |   Access   |\n",
      "+-------------------+--------------+-----------------+---------+------------+\n",
      "| UNKNOWN_SUBNET: 3 | 10.0.169.242 | UNKNOWN_HOST: 4 |   True  |    None    |\n",
      "| UNKNOWN_SUBNET: 5 | 10.0.169.253 |    Op_Server0   |   True  |    User    |\n",
      "|  10.0.216.112/28  | 10.0.216.116 |      User3      |   True  | Privileged |\n",
      "|  10.0.216.112/28  | 10.0.216.118 | UNKNOWN_HOST: 0 |   True  |    None    |\n",
      "|  10.0.216.112/28  | 10.0.216.123 |      User0      |  False  | Privileged |\n",
      "|  10.0.216.112/28  | 10.0.216.125 | UNKNOWN_HOST: 1 |   True  |    None    |\n",
      "+-------------------+--------------+-----------------+---------+------------+\n",
      "\n",
      "Reward: +0.1\n",
      "Score: 0.5\n",
      "\n",
      "---- Turn 10 ----\n",
      "Blue selects ('Restore', 'Op_Server0') with probability 72.36%\n",
      "\n",
      "Red selects ('PrivilegeEscalate', 'Op_Server0') with probability 100.00%\n",
      "\n",
      "New Red observation: [1 1 1 1 1 1 0 0 1 0 0 1 0 0 1 0 0 0 0 1 1 1 1 1 0 0 1 0 0 0 0 0 0 0 0 0 0\n",
      " 0 0 1 0 0]\n",
      "+-------------------+--------------+-----------------+---------+------------+\n",
      "|       Subnet      |  IP Address  |     Hostname    | Scanned |   Access   |\n",
      "+-------------------+--------------+-----------------+---------+------------+\n",
      "| UNKNOWN_SUBNET: 3 | 10.0.169.242 | UNKNOWN_HOST: 4 |   True  |    None    |\n",
      "| UNKNOWN_SUBNET: 5 | 10.0.169.253 |    Op_Server0   |   True  |    None    |\n",
      "|  10.0.216.112/28  | 10.0.216.116 |      User3      |   True  | Privileged |\n",
      "|  10.0.216.112/28  | 10.0.216.118 | UNKNOWN_HOST: 0 |   True  |    None    |\n",
      "|  10.0.216.112/28  | 10.0.216.123 |      User0      |  False  | Privileged |\n",
      "|  10.0.216.112/28  | 10.0.216.125 | UNKNOWN_HOST: 1 |   True  |    None    |\n",
      "+-------------------+--------------+-----------------+---------+------------+\n",
      "\n",
      "Reward: +1.1\n",
      "Score: 1.6\n",
      "\n",
      "---- Turn 11 ----\n",
      "Blue selects ('Analyse', 'User3') with probability 11.82%\n",
      "\n",
      "Red selects ['Impact'] with probability 100.00%\n",
      "\n",
      "New Red observation: [1 1 1 1 1 1 0 0 1 0 0 1 0 0 1 0 0 0 0 1 1 1 1 1 0 0 1 0 0 0 0 0 0 0 0 0 0\n",
      " 0 0 0 1 0]\n",
      "+-------------------+--------------+-----------------+---------+------------+\n",
      "|       Subnet      |  IP Address  |     Hostname    | Scanned |   Access   |\n",
      "+-------------------+--------------+-----------------+---------+------------+\n",
      "| UNKNOWN_SUBNET: 3 | 10.0.169.242 | UNKNOWN_HOST: 4 |   True  |    None    |\n",
      "| UNKNOWN_SUBNET: 5 | 10.0.169.253 |    Op_Server0   |   True  |    None    |\n",
      "|  10.0.216.112/28  | 10.0.216.116 |      User3      |   True  | Privileged |\n",
      "|  10.0.216.112/28  | 10.0.216.118 | UNKNOWN_HOST: 0 |   True  |    None    |\n",
      "|  10.0.216.112/28  | 10.0.216.123 |      User0      |  False  | Privileged |\n",
      "|  10.0.216.112/28  | 10.0.216.125 | UNKNOWN_HOST: 1 |   True  |    None    |\n",
      "+-------------------+--------------+-----------------+---------+------------+\n",
      "\n",
      "Reward: +0.1\n",
      "Score: 1.7\n",
      "\n",
      "---- Turn 12 ----\n",
      "Blue selects ('Remove', 'User3') with probability 16.78%\n",
      "\n",
      "Red selects ['Impact'] with probability 100.00%\n",
      "\n",
      "New Red observation: [1 1 1 1 1 1 0 0 1 0 0 1 0 0 1 0 0 0 0 1 1 1 1 1 0 0 1 0 0 0 0 0 0 0 0 0 0\n",
      " 0 0 0 0 1]\n",
      "+-------------------+--------------+-----------------+---------+------------+\n",
      "|       Subnet      |  IP Address  |     Hostname    | Scanned |   Access   |\n",
      "+-------------------+--------------+-----------------+---------+------------+\n",
      "| UNKNOWN_SUBNET: 3 | 10.0.169.242 | UNKNOWN_HOST: 4 |   True  |    None    |\n",
      "| UNKNOWN_SUBNET: 5 | 10.0.169.253 |    Op_Server0   |   True  |    None    |\n",
      "|  10.0.216.112/28  | 10.0.216.116 |      User3      |   True  | Privileged |\n",
      "|  10.0.216.112/28  | 10.0.216.118 | UNKNOWN_HOST: 0 |   True  |    None    |\n",
      "|  10.0.216.112/28  | 10.0.216.123 |      User0      |  False  | Privileged |\n",
      "|  10.0.216.112/28  | 10.0.216.125 | UNKNOWN_HOST: 1 |   True  |    None    |\n",
      "+-------------------+--------------+-----------------+---------+------------+\n",
      "\n",
      "Reward: +0.1\n",
      "Score: 1.8\n",
      "\n",
      "Competitive Blue vs Meander Red: 1.80\n"
     ]
    }
   ],
   "source": [
    "print(f\"Competitive Blue vs Meander Red: {sample(None, comp_blue, verbose=True, meander_red=True):0.2f}\")"
   ],
   "metadata": {
    "collapsed": false,
    "ExecuteTime": {
     "end_time": "2024-01-13T04:30:47.266667Z",
     "start_time": "2024-01-13T04:30:47.097673600Z"
    }
   }
  }
 ],
 "metadata": {
  "kernelspec": {
   "display_name": "cyborg",
   "language": "python",
   "name": "python3"
  },
  "language_info": {
   "codemirror_mode": {
    "name": "ipython",
    "version": 3
   },
   "file_extension": ".py",
   "mimetype": "text/x-python",
   "name": "python",
   "nbconvert_exporter": "python",
   "pygments_lexer": "ipython3",
   "version": "3.8.13"
  },
  "orig_nbformat": 4,
  "vscode": {
   "interpreter": {
    "hash": "2ad09acfcbc77eceeff7dacd928eeb00a75d739c56abde2050ff4da463580de0"
   }
  }
 },
 "nbformat": 4,
 "nbformat_minor": 2
}
