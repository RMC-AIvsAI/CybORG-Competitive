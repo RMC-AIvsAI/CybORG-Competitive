{
 "cells": [
  {
   "attachments": {},
   "cell_type": "markdown",
   "metadata": {},
   "source": [
    "#### Imports"
   ]
  },
  {
   "cell_type": "code",
   "execution_count": 1,
   "metadata": {},
   "outputs": [
    {
     "name": "stderr",
     "output_type": "stream",
     "text": [
      "/home/garrett/miniconda3/envs/cyborg/lib/python3.8/site-packages/tensorflow/python/framework/dtypes.py:513: DeprecationWarning: `np.object` is a deprecated alias for the builtin `object`. To silence this warning, use `object` by itself. Doing this will not modify any behavior and is safe. \n",
      "Deprecated in NumPy 1.20; for more details and guidance: https://numpy.org/devdocs/release/1.20.0-notes.html#deprecations\n",
      "  np.object,\n",
      "/home/garrett/miniconda3/envs/cyborg/lib/python3.8/site-packages/tensorflow/python/framework/dtypes.py:521: DeprecationWarning: `np.bool` is a deprecated alias for the builtin `bool`. To silence this warning, use `bool` by itself. Doing this will not modify any behavior and is safe. If you specifically wanted the numpy scalar type, use `np.bool_` here.\n",
      "Deprecated in NumPy 1.20; for more details and guidance: https://numpy.org/devdocs/release/1.20.0-notes.html#deprecations\n",
      "  np.bool,\n",
      "/home/garrett/miniconda3/envs/cyborg/lib/python3.8/site-packages/tensorflow/python/framework/tensor_util.py:108: DeprecationWarning: `np.object` is a deprecated alias for the builtin `object`. To silence this warning, use `object` by itself. Doing this will not modify any behavior and is safe. \n",
      "Deprecated in NumPy 1.20; for more details and guidance: https://numpy.org/devdocs/release/1.20.0-notes.html#deprecations\n",
      "  np.object:\n",
      "/home/garrett/miniconda3/envs/cyborg/lib/python3.8/site-packages/tensorflow/python/framework/tensor_util.py:110: DeprecationWarning: `np.bool` is a deprecated alias for the builtin `bool`. To silence this warning, use `bool` by itself. Doing this will not modify any behavior and is safe. If you specifically wanted the numpy scalar type, use `np.bool_` here.\n",
      "Deprecated in NumPy 1.20; for more details and guidance: https://numpy.org/devdocs/release/1.20.0-notes.html#deprecations\n",
      "  np.bool:\n",
      "/home/garrett/miniconda3/envs/cyborg/lib/python3.8/site-packages/tensorflow/python/autograph/impl/api.py:22: DeprecationWarning: the imp module is deprecated in favour of importlib; see the module's documentation for alternative uses\n",
      "  import imp\n",
      "/home/garrett/miniconda3/envs/cyborg/lib/python3.8/site-packages/tensorflow/python/ops/numpy_ops/np_random.py:95: DeprecationWarning: `np.int` is a deprecated alias for the builtin `int`. To silence this warning, use `int` by itself. Doing this will not modify any behavior and is safe. When replacing `np.int`, you may wish to use e.g. `np.int64` or `np.int32` to specify the precision. If you wish to review your current use, check the release note link for additional information.\n",
      "Deprecated in NumPy 1.20; for more details and guidance: https://numpy.org/devdocs/release/1.20.0-notes.html#deprecations\n",
      "  def randint(low, high=None, size=None, dtype=onp.int):  # pylint: disable=missing-function-docstring\n",
      "/home/garrett/miniconda3/envs/cyborg/lib/python3.8/site-packages/h5py/__init__.py:46: DeprecationWarning: `np.typeDict` is a deprecated alias for `np.sctypeDict`.\n",
      "  from ._conv import register_converters as _register_converters\n",
      "/home/garrett/miniconda3/envs/cyborg/lib/python3.8/site-packages/keras_preprocessing/image/utils.py:23: DeprecationWarning: NEAREST is deprecated and will be removed in Pillow 10 (2023-07-01). Use Resampling.NEAREST or Dither.NONE instead.\n",
      "  'nearest': pil_image.NEAREST,\n",
      "/home/garrett/miniconda3/envs/cyborg/lib/python3.8/site-packages/keras_preprocessing/image/utils.py:24: DeprecationWarning: BILINEAR is deprecated and will be removed in Pillow 10 (2023-07-01). Use Resampling.BILINEAR instead.\n",
      "  'bilinear': pil_image.BILINEAR,\n",
      "/home/garrett/miniconda3/envs/cyborg/lib/python3.8/site-packages/keras_preprocessing/image/utils.py:25: DeprecationWarning: BICUBIC is deprecated and will be removed in Pillow 10 (2023-07-01). Use Resampling.BICUBIC instead.\n",
      "  'bicubic': pil_image.BICUBIC,\n",
      "/home/garrett/miniconda3/envs/cyborg/lib/python3.8/site-packages/keras_preprocessing/image/utils.py:28: DeprecationWarning: HAMMING is deprecated and will be removed in Pillow 10 (2023-07-01). Use Resampling.HAMMING instead.\n",
      "  if hasattr(pil_image, 'HAMMING'):\n",
      "/home/garrett/miniconda3/envs/cyborg/lib/python3.8/site-packages/keras_preprocessing/image/utils.py:30: DeprecationWarning: BOX is deprecated and will be removed in Pillow 10 (2023-07-01). Use Resampling.BOX instead.\n",
      "  if hasattr(pil_image, 'BOX'):\n",
      "/home/garrett/miniconda3/envs/cyborg/lib/python3.8/site-packages/keras_preprocessing/image/utils.py:33: DeprecationWarning: LANCZOS is deprecated and will be removed in Pillow 10 (2023-07-01). Use Resampling.LANCZOS instead.\n",
      "  if hasattr(pil_image, 'LANCZOS'):\n"
     ]
    }
   ],
   "source": [
    "from environments import build_blue_agent, build_red_agent, sample\n",
    "\n",
    "import ray\n",
    "import os\n",
    "import pandas as pd\n",
    "import seaborn as sns\n",
    "import matplotlib.pyplot as plt\n",
    "\n",
    "import warnings\n",
    "warnings.filterwarnings(\"ignore\", category=DeprecationWarning)\n",
    "warnings.simplefilter(action='ignore', category=FutureWarning)\n",
    "import logging\n",
    "logging.disable(logging.WARNING)\n",
    "os.environ['TF_CPP_MIN_LOG_LEVEL'] = '3'\n",
    "\n",
    "import tensorflow as tf\n",
    "logger = logging.getLogger(__name__)"
   ]
  },
  {
   "attachments": {},
   "cell_type": "markdown",
   "metadata": {},
   "source": [
    "#### Verify GPU"
   ]
  },
  {
   "cell_type": "code",
   "execution_count": 2,
   "metadata": {},
   "outputs": [
    {
     "data": {
      "text/plain": [
       "[PhysicalDevice(name='/physical_device:GPU:0', device_type='GPU')]"
      ]
     },
     "execution_count": 2,
     "metadata": {},
     "output_type": "execute_result"
    }
   ],
   "source": [
    "tf.config.list_physical_devices('GPU')"
   ]
  },
  {
   "attachments": {},
   "cell_type": "markdown",
   "metadata": {},
   "source": [
    "#### Load Agents"
   ]
  },
  {
   "cell_type": "code",
   "execution_count": 3,
   "metadata": {},
   "outputs": [
    {
     "name": "stdout",
     "output_type": "stream",
     "text": [
      "./policies/blue_competitive_pool/competitive_blue_0/checkpoint_000000\n",
      "./policies/red_competitive_pool/competitive_red_0/checkpoint_000000\n",
      "./policies/blue_dedicated_pool/dedicated_blue_0/checkpoint_000000\n",
      "./policies/red_dedicated_pool/dedicated_red_0/checkpoint_000000\n"
     ]
    }
   ],
   "source": [
    "# Start Ray\n",
    "ray.init(num_gpus=1, ignore_reinit_error=True, log_to_driver=False)\n",
    "\n",
    "comp_blue = build_blue_agent(workers=1)\n",
    "path_file = open(f\"./policies/competitive_blue_policy\", \"r\")\n",
    "blue_restore_path = path_file.read()\n",
    "path_file.close()\n",
    "comp_blue.restore(blue_restore_path)\n",
    "\n",
    "comp_red = build_red_agent(workers=1)\n",
    "path_file = open(f\"./policies/competitive_red_policy\", \"r\")\n",
    "red_restore_path = path_file.read()\n",
    "path_file.close()\n",
    "comp_red.restore(red_restore_path)\n",
    "\n",
    "ded_blue = build_blue_agent(dedicated=True, workers=1)\n",
    "path_file = open(f\"./policies/dedicated_blue_policy\", \"r\")\n",
    "blue_restore_path = path_file.read()\n",
    "path_file.close()\n",
    "ded_blue.restore(blue_restore_path)\n",
    "\n",
    "ded_red = build_red_agent(dedicated=True, workers=1)\n",
    "path_file = open(f\"./policies/dedicated_red_policy\", \"r\")\n",
    "red_restore_path = path_file.read()\n",
    "path_file.close()\n",
    "ded_red.restore(red_restore_path)\n",
    "\n",
    "sample_size = 1000"
   ]
  },
  {
   "attachments": {},
   "cell_type": "markdown",
   "metadata": {},
   "source": [
    "#### Score Matrix"
   ]
  },
  {
   "cell_type": "code",
   "execution_count": 4,
   "metadata": {},
   "outputs": [
    {
     "name": "stdout",
     "output_type": "stream",
     "text": [
      "Competitive Blue vs Competitive Red: 4.79\n",
      "Competitive Blue vs Dedicated Red: 5.38\n",
      "Competitive Blue vs Random Red: 0.03\n",
      "Dedicated Blue vs Competitive Red: 4.02\n",
      "Dedicated Blue vs Dedicated Red: 4.98\n",
      "Dedicated Blue vs Random Red: 0.03\n",
      "Random Blue vs Competitive Red: 15.43\n",
      "Random Blue vs Dedicated Red: 12.24\n",
      "Random Blue vs Random Red: 4.06\n"
     ]
    }
   ],
   "source": [
    "print(f\"Competitive Blue vs Competitive Red: {sample(comp_red, comp_blue, games=sample_size):0.2f}\")\n",
    "print(f\"Competitive Blue vs Dedicated Red: {sample(ded_red, comp_blue, games=sample_size):0.2f}\")\n",
    "print(f\"Competitive Blue vs Random Red: {sample(comp_red, comp_blue, games=sample_size, random_red=True):0.2f}\")\n",
    "print(f\"Dedicated Blue vs Competitive Red: {sample(comp_red, ded_blue, games=sample_size):0.2f}\")\n",
    "print(f\"Dedicated Blue vs Dedicated Red: {sample(ded_red, ded_blue, games=sample_size):0.2f}\")\n",
    "print(f\"Dedicated Blue vs Random Red: {sample(comp_red, ded_blue, games=sample_size, random_red=True):0.2f}\")\n",
    "print(f\"Random Blue vs Competitive Red: {sample(comp_red, comp_blue, games=sample_size, random_blue=True):0.2f}\")\n",
    "print(f\"Random Blue vs Dedicated Red: {sample(ded_red, comp_blue, games=sample_size, random_blue=True):0.2f}\")\n",
    "print(f\"Random Blue vs Random Red: {sample(comp_red, comp_blue, games=sample_size, random_red=True, random_blue=True):0.2f}\")"
   ]
  }
 ],
 "metadata": {
  "kernelspec": {
   "display_name": "cyborg",
   "language": "python",
   "name": "python3"
  },
  "language_info": {
   "codemirror_mode": {
    "name": "ipython",
    "version": 3
   },
   "file_extension": ".py",
   "mimetype": "text/x-python",
   "name": "python",
   "nbconvert_exporter": "python",
   "pygments_lexer": "ipython3",
   "version": "3.8.13"
  },
  "orig_nbformat": 4,
  "vscode": {
   "interpreter": {
    "hash": "2ad09acfcbc77eceeff7dacd928eeb00a75d739c56abde2050ff4da463580de0"
   }
  }
 },
 "nbformat": 4,
 "nbformat_minor": 2
}
